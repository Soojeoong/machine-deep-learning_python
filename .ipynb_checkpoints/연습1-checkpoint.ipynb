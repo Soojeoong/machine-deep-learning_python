{
 "cells": [
  {
   "cell_type": "code",
   "execution_count": 1,
   "id": "51245881",
   "metadata": {},
   "outputs": [],
   "source": [
    "x = 5"
   ]
  },
  {
   "cell_type": "code",
   "execution_count": 2,
   "id": "bd884dcb",
   "metadata": {},
   "outputs": [
    {
     "name": "stdout",
     "output_type": "stream",
     "text": [
      "5\n"
     ]
    }
   ],
   "source": [
    "print(5)"
   ]
  },
  {
   "cell_type": "code",
   "execution_count": 7,
   "id": "3418bd35",
   "metadata": {},
   "outputs": [
    {
     "data": {
      "text/plain": [
       "5"
      ]
     },
     "execution_count": 7,
     "metadata": {},
     "output_type": "execute_result"
    }
   ],
   "source": [
    "x #변수만 써줘도 출력 o"
   ]
  },
  {
   "cell_type": "code",
   "execution_count": 5,
   "id": "3315881a",
   "metadata": {},
   "outputs": [
    {
     "name": "stdout",
     "output_type": "stream",
     "text": [
      "7\n",
      "5\n",
      "7\n"
     ]
    }
   ],
   "source": [
    "print(2 + 5)\n",
    "print(x)\n",
    "print(3 + 4)"
   ]
  },
  {
   "cell_type": "code",
   "execution_count": 6,
   "id": "d6e5e632",
   "metadata": {},
   "outputs": [
    {
     "data": {
      "text/plain": [
       "7"
      ]
     },
     "execution_count": 6,
     "metadata": {},
     "output_type": "execute_result"
    }
   ],
   "source": [
    "2 + 5\n",
    "x\n",
    "3 + 4 #마지막만 출력"
   ]
  },
  {
   "cell_type": "code",
   "execution_count": 8,
   "id": "b3532ffa",
   "metadata": {},
   "outputs": [
    {
     "name": "stdout",
     "output_type": "stream",
     "text": [
      "7\n",
      "5\n",
      "7\n"
     ]
    },
    {
     "data": {
      "text/plain": [
       "7"
      ]
     },
     "execution_count": 8,
     "metadata": {},
     "output_type": "execute_result"
    }
   ],
   "source": [
    "2 + 5\n",
    "x\n",
    "print(2 + 5)\n",
    "print(x)\n",
    "print(3 + 4)\n",
    "3 + 4 #print와 마지막만 출력"
   ]
  },
  {
   "cell_type": "code",
   "execution_count": 12,
   "id": "1458b1a8",
   "metadata": {},
   "outputs": [],
   "source": [
    "import pandas as pd\n",
    "\n",
    "df = pd.read_csv('liverpool.csv')"
   ]
  },
  {
   "cell_type": "code",
   "execution_count": 13,
   "id": "345d8cad",
   "metadata": {},
   "outputs": [
    {
     "name": "stdout",
     "output_type": "stream",
     "text": [
      "              Name Position  Born  Number Nationality\n",
      "0  Roberto Firmino       FW  1991   no. 9      Brazil\n",
      "1       Sadio Mane       FW  1992  no. 10     Senegal\n",
      "2    Mohamed Salah       FW  1992  no. 11       Egypt\n",
      "3        Joe Gomez       DF  1997  no. 12     England\n",
      "4   Alisson Becker       GK  1992  no. 13      Brazil\n"
     ]
    }
   ],
   "source": [
    "print(df)"
   ]
  },
  {
   "cell_type": "code",
   "execution_count": 14,
   "id": "fdb1c588",
   "metadata": {},
   "outputs": [
    {
     "data": {
      "text/html": [
       "<div>\n",
       "<style scoped>\n",
       "    .dataframe tbody tr th:only-of-type {\n",
       "        vertical-align: middle;\n",
       "    }\n",
       "\n",
       "    .dataframe tbody tr th {\n",
       "        vertical-align: top;\n",
       "    }\n",
       "\n",
       "    .dataframe thead th {\n",
       "        text-align: right;\n",
       "    }\n",
       "</style>\n",
       "<table border=\"1\" class=\"dataframe\">\n",
       "  <thead>\n",
       "    <tr style=\"text-align: right;\">\n",
       "      <th></th>\n",
       "      <th>Name</th>\n",
       "      <th>Position</th>\n",
       "      <th>Born</th>\n",
       "      <th>Number</th>\n",
       "      <th>Nationality</th>\n",
       "    </tr>\n",
       "  </thead>\n",
       "  <tbody>\n",
       "    <tr>\n",
       "      <th>0</th>\n",
       "      <td>Roberto Firmino</td>\n",
       "      <td>FW</td>\n",
       "      <td>1991</td>\n",
       "      <td>no. 9</td>\n",
       "      <td>Brazil</td>\n",
       "    </tr>\n",
       "    <tr>\n",
       "      <th>1</th>\n",
       "      <td>Sadio Mane</td>\n",
       "      <td>FW</td>\n",
       "      <td>1992</td>\n",
       "      <td>no. 10</td>\n",
       "      <td>Senegal</td>\n",
       "    </tr>\n",
       "    <tr>\n",
       "      <th>2</th>\n",
       "      <td>Mohamed Salah</td>\n",
       "      <td>FW</td>\n",
       "      <td>1992</td>\n",
       "      <td>no. 11</td>\n",
       "      <td>Egypt</td>\n",
       "    </tr>\n",
       "    <tr>\n",
       "      <th>3</th>\n",
       "      <td>Joe Gomez</td>\n",
       "      <td>DF</td>\n",
       "      <td>1997</td>\n",
       "      <td>no. 12</td>\n",
       "      <td>England</td>\n",
       "    </tr>\n",
       "    <tr>\n",
       "      <th>4</th>\n",
       "      <td>Alisson Becker</td>\n",
       "      <td>GK</td>\n",
       "      <td>1992</td>\n",
       "      <td>no. 13</td>\n",
       "      <td>Brazil</td>\n",
       "    </tr>\n",
       "  </tbody>\n",
       "</table>\n",
       "</div>"
      ],
      "text/plain": [
       "              Name Position  Born  Number Nationality\n",
       "0  Roberto Firmino       FW  1991   no. 9      Brazil\n",
       "1       Sadio Mane       FW  1992  no. 10     Senegal\n",
       "2    Mohamed Salah       FW  1992  no. 11       Egypt\n",
       "3        Joe Gomez       DF  1997  no. 12     England\n",
       "4   Alisson Becker       GK  1992  no. 13      Brazil"
      ]
     },
     "execution_count": 14,
     "metadata": {},
     "output_type": "execute_result"
    }
   ],
   "source": [
    "df"
   ]
  }
 ],
 "metadata": {
  "kernelspec": {
   "display_name": "Python 3 (ipykernel)",
   "language": "python",
   "name": "python3"
  },
  "language_info": {
   "codemirror_mode": {
    "name": "ipython",
    "version": 3
   },
   "file_extension": ".py",
   "mimetype": "text/x-python",
   "name": "python",
   "nbconvert_exporter": "python",
   "pygments_lexer": "ipython3",
   "version": "3.9.7"
  }
 },
 "nbformat": 4,
 "nbformat_minor": 5
}
