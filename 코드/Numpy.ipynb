{
 "cells": [
  {
   "cell_type": "markdown",
   "id": "2a47cd75",
   "metadata": {},
   "source": [
    "# **Numpy : 숫자와 관련한 파이썬 도구**"
   ]
  },
  {
   "cell_type": "markdown",
   "id": "b968e307",
   "metadata": {},
   "source": [
    "- numpy array - 배열 (행렬) 다룰 때 주로 씀"
   ]
  },
  {
   "cell_type": "code",
   "execution_count": 1,
   "id": "b45fb30f",
   "metadata": {},
   "outputs": [],
   "source": [
    "import numpy"
   ]
  },
  {
   "cell_type": "code",
   "execution_count": 3,
   "id": "75c0cee5",
   "metadata": {},
   "outputs": [],
   "source": [
    "array1 = numpy.array([2,3,5,7,11,13,17,19,23,29,31])"
   ]
  },
  {
   "cell_type": "code",
   "execution_count": 4,
   "id": "f911f139",
   "metadata": {},
   "outputs": [
    {
     "data": {
      "text/plain": [
       "array([ 2,  3,  5,  7, 11, 13, 17, 19, 23, 29, 31])"
      ]
     },
     "execution_count": 4,
     "metadata": {},
     "output_type": "execute_result"
    }
   ],
   "source": [
    "array11"
   ]
  },
  {
   "cell_type": "markdown",
   "id": "36913cbd",
   "metadata": {},
   "source": [
    "## .shape : 행렬의 차원"
   ]
  },
  {
   "cell_type": "code",
   "execution_count": 6,
   "id": "ef3cdd1f",
   "metadata": {
    "scrolled": true
   },
   "outputs": [
    {
     "data": {
      "text/plain": [
       "(11,)"
      ]
     },
     "execution_count": 6,
     "metadata": {},
     "output_type": "execute_result"
    }
   ],
   "source": [
    "array1.shape"
   ]
  },
  {
   "cell_type": "markdown",
   "id": "26bab93c",
   "metadata": {},
   "source": [
    "## type( ): 자료형"
   ]
  },
  {
   "cell_type": "code",
   "execution_count": 5,
   "id": "05eaa1ad",
   "metadata": {
    "scrolled": true
   },
   "outputs": [
    {
     "data": {
      "text/plain": [
       "numpy.ndarray"
      ]
     },
     "execution_count": 5,
     "metadata": {},
     "output_type": "execute_result"
    }
   ],
   "source": [
    "type(array1)"
   ]
  },
  {
   "cell_type": "markdown",
   "id": "30f62879",
   "metadata": {},
   "source": [
    "- ndarray : n차원 배열"
   ]
  },
  {
   "cell_type": "code",
   "execution_count": 7,
   "id": "0b4cbb8a",
   "metadata": {},
   "outputs": [],
   "source": [
    "array2 = numpy.array([[1,2,3,4],[5,6,7,8],[9,10,11,12]])"
   ]
  },
  {
   "cell_type": "code",
   "execution_count": 8,
   "id": "c5c80be3",
   "metadata": {},
   "outputs": [
    {
     "data": {
      "text/plain": [
       "numpy.ndarray"
      ]
     },
     "execution_count": 8,
     "metadata": {},
     "output_type": "execute_result"
    }
   ],
   "source": [
    "type(array2)"
   ]
  },
  {
   "cell_type": "code",
   "execution_count": 9,
   "id": "5f213b5d",
   "metadata": {},
   "outputs": [
    {
     "data": {
      "text/plain": [
       "array([[ 1,  2,  3,  4],\n",
       "       [ 5,  6,  7,  8],\n",
       "       [ 9, 10, 11, 12]])"
      ]
     },
     "execution_count": 9,
     "metadata": {},
     "output_type": "execute_result"
    }
   ],
   "source": [
    "array2"
   ]
  },
  {
   "cell_type": "code",
   "execution_count": 10,
   "id": "7b34b2c1",
   "metadata": {},
   "outputs": [
    {
     "data": {
      "text/plain": [
       "(3, 4)"
      ]
     },
     "execution_count": 10,
     "metadata": {},
     "output_type": "execute_result"
    }
   ],
   "source": [
    "array2.shape "
   ]
  },
  {
   "cell_type": "markdown",
   "id": "d1d8eab8",
   "metadata": {},
   "source": [
    "- (3,4) : 행 3, 열 4 (2차원)"
   ]
  },
  {
   "cell_type": "markdown",
   "id": "6a5307cc",
   "metadata": {},
   "source": [
    "## size : 전체 배열 크기"
   ]
  },
  {
   "cell_type": "code",
   "execution_count": 11,
   "id": "7f688f0a",
   "metadata": {},
   "outputs": [
    {
     "data": {
      "text/plain": [
       "11"
      ]
     },
     "execution_count": 11,
     "metadata": {},
     "output_type": "execute_result"
    }
   ],
   "source": [
    "array1.size"
   ]
  },
  {
   "cell_type": "code",
   "execution_count": 12,
   "id": "1930edc5",
   "metadata": {},
   "outputs": [
    {
     "data": {
      "text/plain": [
       "12"
      ]
     },
     "execution_count": 12,
     "metadata": {},
     "output_type": "execute_result"
    }
   ],
   "source": [
    "array2.size"
   ]
  },
  {
   "cell_type": "markdown",
   "id": "65fb3783",
   "metadata": {},
   "source": [
    "# numpy.full() : 균일한 값으로 생성"
   ]
  },
  {
   "cell_type": "code",
   "execution_count": 13,
   "id": "6c8e8b2d",
   "metadata": {},
   "outputs": [
    {
     "data": {
      "text/plain": [
       "array([7, 7, 7, 7, 7, 7])"
      ]
     },
     "execution_count": 13,
     "metadata": {},
     "output_type": "execute_result"
    }
   ],
   "source": [
    "array3 = numpy.full(6,7)\n",
    "array3"
   ]
  },
  {
   "cell_type": "markdown",
   "id": "a39319b2",
   "metadata": {},
   "source": [
    "# 모든 값이 0인 numpy array 생성"
   ]
  },
  {
   "cell_type": "code",
   "execution_count": 14,
   "id": "92825ae7",
   "metadata": {},
   "outputs": [
    {
     "name": "stdout",
     "output_type": "stream",
     "text": [
      "[0 0 0 0 0 0]\n",
      "\n",
      "[0 0 0 0 0 0]\n"
     ]
    }
   ],
   "source": [
    "x = numpy.full(6, 0)\n",
    "y = numpy.zeros(6, dtype=int)\n",
    "\n",
    "print(x)\n",
    "print()\n",
    "print(y)"
   ]
  },
  {
   "cell_type": "markdown",
   "id": "c5b27276",
   "metadata": {},
   "source": [
    "- numpy.zeros(6, dtype=int)"
   ]
  },
  {
   "cell_type": "markdown",
   "id": "58d9349f",
   "metadata": {},
   "source": [
    "# 모든 값이 1인 numpy array 생성"
   ]
  },
  {
   "cell_type": "code",
   "execution_count": 15,
   "id": "4e075144",
   "metadata": {},
   "outputs": [
    {
     "name": "stdout",
     "output_type": "stream",
     "text": [
      "[1 1 1 1 1 1]\n",
      "\n",
      "[1 1 1 1 1 1]\n"
     ]
    }
   ],
   "source": [
    "x = numpy.full(6,1)\n",
    "y = numpy.ones(6, dtype=int)\n",
    "\n",
    "print(x)\n",
    "print()\n",
    "print(y)"
   ]
  },
  {
   "cell_type": "markdown",
   "id": "da7d530b",
   "metadata": {},
   "source": [
    "# 랜덤 값 생성"
   ]
  },
  {
   "cell_type": "markdown",
   "id": "dc89ab77",
   "metadata": {},
   "source": [
    "- `numpy` 모듈 안에 `random` 모듈 안에 `random` 함수"
   ]
  },
  {
   "cell_type": "code",
   "execution_count": 16,
   "id": "e76de658",
   "metadata": {},
   "outputs": [
    {
     "name": "stdout",
     "output_type": "stream",
     "text": [
      "[0.11053341 0.34554558 0.02474761 0.72489176 0.63726219 0.70284287]\n",
      "\n",
      "[0.0204463  0.55884753 0.90544779 0.26879676 0.89377014 0.57802674]\n"
     ]
    }
   ],
   "source": [
    "x = numpy.random.random(6)\n",
    "y = numpy.random.random(6)\n",
    "\n",
    "print(x)\n",
    "print()\n",
    "print(y)"
   ]
  },
  {
   "cell_type": "markdown",
   "id": "18b8981c",
   "metadata": {},
   "source": [
    "# 연속 배열 numpy array 생성"
   ]
  },
  {
   "cell_type": "markdown",
   "id": "b5e93e2a",
   "metadata": {},
   "source": [
    "- `arange(n)` : `0`부터 `n-1`까지"
   ]
  },
  {
   "cell_type": "code",
   "execution_count": 18,
   "id": "64edd5d5",
   "metadata": {},
   "outputs": [
    {
     "name": "stdout",
     "output_type": "stream",
     "text": [
      "[0 1 2 3 4 5]\n"
     ]
    }
   ],
   "source": [
    "x = numpy.arange(6)\n",
    "print(x)"
   ]
  },
  {
   "cell_type": "markdown",
   "id": "6ec024d2",
   "metadata": {},
   "source": [
    "- `arange(n, m)` : `n`부터 `m-1`까지"
   ]
  },
  {
   "cell_type": "code",
   "execution_count": 19,
   "id": "2e58718b",
   "metadata": {},
   "outputs": [
    {
     "name": "stdout",
     "output_type": "stream",
     "text": [
      "[2 3 4 5 6]\n"
     ]
    }
   ],
   "source": [
    "y = numpy.arange(2,7)\n",
    "print(y)"
   ]
  },
  {
   "cell_type": "markdown",
   "id": "ef2b2799",
   "metadata": {},
   "source": [
    "- `arange(n, m, s)` : `n`부터 `m-1`까지 `s` 간격으로"
   ]
  },
  {
   "cell_type": "code",
   "execution_count": 20,
   "id": "b4b0e13f",
   "metadata": {},
   "outputs": [
    {
     "name": "stdout",
     "output_type": "stream",
     "text": [
      "[ 3  6  9 12 15]\n"
     ]
    }
   ],
   "source": [
    "z = numpy.arange(3, 17, 3)\n",
    "print(z)"
   ]
  }
 ],
 "metadata": {
  "kernelspec": {
   "display_name": "Python 3 (ipykernel)",
   "language": "python",
   "name": "python3"
  },
  "language_info": {
   "codemirror_mode": {
    "name": "ipython",
    "version": 3
   },
   "file_extension": ".py",
   "mimetype": "text/x-python",
   "name": "python",
   "nbconvert_exporter": "python",
   "pygments_lexer": "ipython3",
   "version": "3.9.7"
  }
 },
 "nbformat": 4,
 "nbformat_minor": 5
}
