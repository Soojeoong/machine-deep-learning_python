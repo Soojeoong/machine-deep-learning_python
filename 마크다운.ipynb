{
 "cells": [
  {
   "cell_type": "markdown",
   "id": "6814c30d",
   "metadata": {},
   "source": [
    "# *cell 선택한 채로 m 누르면 마크다운으로 바뀜*"
   ]
  },
  {
   "cell_type": "markdown",
   "id": "fd45e0a4",
   "metadata": {},
   "source": [
    "# 가장 큰 제목\n",
    "## 두 번째 큰 제목\n",
    "### 세 번째 큰 제목\n",
    "#### 네 번째 큰 제목"
   ]
  },
  {
   "cell_type": "markdown",
   "id": "2b0d0f43",
   "metadata": {},
   "source": [
    "# 가장 큰 제목\n",
    "## 두 번째 큰 제목\n",
    "### 세 번째 큰 제목\n",
    "#### 네 번째 큰 제목"
   ]
  },
  {
   "cell_type": "markdown",
   "id": "e313fe9b",
   "metadata": {},
   "source": [
    "## 글씨체\n",
    "**두껍게** or __두껍게__\n",
    "*날려 쓰기* or _날려 쓰기_\n",
    "~~취소선~~"
   ]
  },
  {
   "cell_type": "markdown",
   "id": "7f5ca7c8",
   "metadata": {},
   "source": [
    "## 글씨체\n",
    "**두껍게** or __두껍게__\n",
    "*날려 쓰기* or _날려 쓰기_\n",
    "~~취소선~~"
   ]
  },
  {
   "cell_type": "markdown",
   "id": "c8213588",
   "metadata": {},
   "source": [
    "## 번호 있는 목록\n",
    "1. 번호 목록1\n",
    "2. 번호 목록2\n",
    "3. 번호 목록3"
   ]
  },
  {
   "cell_type": "markdown",
   "id": "9eea86cc",
   "metadata": {},
   "source": [
    "## 번호 있는 목록\n",
    "1. 번호 목록1\n",
    "2. 번호 목록2\n",
    "3. 번호 목록3"
   ]
  },
  {
   "cell_type": "markdown",
   "id": "82ff3812",
   "metadata": {},
   "source": [
    "## 번호 없는 목록\n",
    "* 리스트1\n",
    "* 리스트2"
   ]
  },
  {
   "cell_type": "markdown",
   "id": "0f458ab4",
   "metadata": {},
   "source": [
    "## 번호 없는 목록\n",
    "* 리스트1\n",
    "* 리스트2"
   ]
  },
  {
   "cell_type": "markdown",
   "id": "43ff1105",
   "metadata": {},
   "source": [
    "## 줄 바꿈\n",
    "* space 키 두 번 누르고 enter\n",
    "\n",
    "줄을 바꿉니다  \n",
    "space 두 번 눌렀습니다. \n",
    "\n",
    "## 문단 바꿈\n",
    "* enter 키 두 번\n",
    "\n",
    "문단을 바꿉니다vv\n",
    "\n",
    "enter 두 번 눌렀습니다."
   ]
  },
  {
   "cell_type": "markdown",
   "id": "e169a714",
   "metadata": {},
   "source": [
    "## 줄 바꿈\n",
    "* space 키 두 번 누르고 enter\n",
    "\n",
    "줄을 바꿉니다  \n",
    "space 두 번 눌렀습니다. \n",
    "\n",
    "## 문단 바꿈\n",
    "* enter 키 두 번\n",
    "\n",
    "문단을 바꿉니다vv\n",
    "\n",
    "enter 두 번 눌렀습니다."
   ]
  },
  {
   "cell_type": "markdown",
   "id": "d8178302",
   "metadata": {},
   "source": [
    "## 링크\n",
    "* [링크](주소)\n",
    "\n",
    "## 이미지\n",
    "* ![이미지](주소)"
   ]
  },
  {
   "cell_type": "markdown",
   "id": "443ac730",
   "metadata": {},
   "source": [
    "## 링크\n",
    "* [링크](주소)\n",
    "\n",
    "## 이미지\n",
    "* ![이미지](주소)"
   ]
  },
  {
   "cell_type": "markdown",
   "id": "8ed2c878",
   "metadata": {},
   "source": [
    "## 코드 블록\n",
    "```python\n",
    "print(3)\n",
    "```"
   ]
  },
  {
   "cell_type": "markdown",
   "id": "18ac040a",
   "metadata": {},
   "source": [
    "## 코드 블록\n",
    "```python\n",
    "print(3)\n",
    "```"
   ]
  },
  {
   "cell_type": "markdown",
   "id": "ac0b40ba",
   "metadata": {},
   "source": [
    "## 인라인 코드\n",
    "`print`"
   ]
  },
  {
   "cell_type": "markdown",
   "id": "e4434002",
   "metadata": {},
   "source": [
    "## 인라인 코드\n",
    "`print`"
   ]
  },
  {
   "cell_type": "markdown",
   "id": "23855417",
   "metadata": {},
   "source": [
    "## 구분선\n",
    "아래\n",
    "\n",
    "---\n",
    "\n",
    "위"
   ]
  },
  {
   "cell_type": "markdown",
   "id": "da14231e",
   "metadata": {},
   "source": [
    "## 구분선\n",
    "아래\n",
    "\n",
    "---\n",
    "\n",
    "위"
   ]
  }
 ],
 "metadata": {
  "kernelspec": {
   "display_name": "Python 3 (ipykernel)",
   "language": "python",
   "name": "python3"
  },
  "language_info": {
   "codemirror_mode": {
    "name": "ipython",
    "version": 3
   },
   "file_extension": ".py",
   "mimetype": "text/x-python",
   "name": "python",
   "nbconvert_exporter": "python",
   "pygments_lexer": "ipython3",
   "version": "3.9.7"
  }
 },
 "nbformat": 4,
 "nbformat_minor": 5
}
